{
  "nbformat": 4,
  "nbformat_minor": 0,
  "metadata": {
    "colab": {
      "provenance": [],
      "authorship_tag": "ABX9TyNno7QwEW0GNUwzZcpP52KQ",
      "include_colab_link": true
    },
    "kernelspec": {
      "name": "python3",
      "display_name": "Python 3"
    },
    "language_info": {
      "name": "python"
    }
  },
  "cells": [
    {
      "cell_type": "markdown",
      "metadata": {
        "id": "view-in-github",
        "colab_type": "text"
      },
      "source": [
        "<a href=\"https://colab.research.google.com/github/Rahul-G06/proving-gr-using-ligo/blob/main/notebooks/obtain_data.ipynb\" target=\"_parent\"><img src=\"https://colab.research.google.com/assets/colab-badge.svg\" alt=\"Open In Colab\"/></a>"
      ]
    },
    {
      "cell_type": "markdown",
      "source": [
        "Repo:\n",
        "https://github.com/Rahul-G06/proving-gr-using-ligo.git\n"
      ],
      "metadata": {
        "id": "tzOQBECr6YtQ"
      }
    },
    {
      "cell_type": "code",
      "execution_count": 1,
      "metadata": {
        "colab": {
          "base_uri": "https://localhost:8080/"
        },
        "id": "39LQEkkmlUN9",
        "outputId": "8f7ced34-d021-4c53-9e33-dff936f9b3e2"
      },
      "outputs": [
        {
          "output_type": "stream",
          "name": "stdout",
          "text": [
            "\u001b[?25l   \u001b[90m━━━━━━━━━━━━━━━━━━━━━━━━━━━━━━━━━━━━━━━━\u001b[0m \u001b[32m0.0/1.4 MB\u001b[0m \u001b[31m?\u001b[0m eta \u001b[36m-:--:--\u001b[0m\r\u001b[2K   \u001b[91m━━━━━━━━━━━━━━━━━━\u001b[0m\u001b[90m╺\u001b[0m\u001b[90m━━━━━━━━━━━━━━━━━━━━━\u001b[0m \u001b[32m0.6/1.4 MB\u001b[0m \u001b[31m19.0 MB/s\u001b[0m eta \u001b[36m0:00:01\u001b[0m\r\u001b[2K   \u001b[90m━━━━━━━━━━━━━━━━━━━━━━━━━━━━━━━━━━━━━━━━\u001b[0m \u001b[32m1.4/1.4 MB\u001b[0m \u001b[31m21.6 MB/s\u001b[0m eta \u001b[36m0:00:00\u001b[0m\n",
            "\u001b[?25h\u001b[?25l   \u001b[90m━━━━━━━━━━━━━━━━━━━━━━━━━━━━━━━━━━━━━━━━\u001b[0m \u001b[32m0.0/315.5 kB\u001b[0m \u001b[31m?\u001b[0m eta \u001b[36m-:--:--\u001b[0m\r\u001b[2K   \u001b[90m━━━━━━━━━━━━━━━━━━━━━━━━━━━━━━━━━━━━━━━━\u001b[0m \u001b[32m315.5/315.5 kB\u001b[0m \u001b[31m19.8 MB/s\u001b[0m eta \u001b[36m0:00:00\u001b[0m\n",
            "\u001b[2K   \u001b[90m━━━━━━━━━━━━━━━━━━━━━━━━━━━━━━━━━━━━━━━━\u001b[0m \u001b[32m43.8/43.8 kB\u001b[0m \u001b[31m2.8 MB/s\u001b[0m eta \u001b[36m0:00:00\u001b[0m\n",
            "\u001b[2K   \u001b[90m━━━━━━━━━━━━━━━━━━━━━━━━━━━━━━━━━━━━━━━━\u001b[0m \u001b[32m131.1/131.1 kB\u001b[0m \u001b[31m8.3 MB/s\u001b[0m eta \u001b[36m0:00:00\u001b[0m\n",
            "\u001b[2K   \u001b[90m━━━━━━━━━━━━━━━━━━━━━━━━━━━━━━━━━━━━━━━━\u001b[0m \u001b[32m4.5/4.5 MB\u001b[0m \u001b[31m81.1 MB/s\u001b[0m eta \u001b[36m0:00:00\u001b[0m\n",
            "\u001b[?25h\u001b[31mERROR: pip's dependency resolver does not currently take into account all the packages that are installed. This behaviour is the source of the following dependency conflicts.\n",
            "pyopenssl 24.2.1 requires cryptography<44,>=41.0.5, but you have cryptography 45.0.6 which is incompatible.\n",
            "pydrive2 1.21.3 requires cryptography<44, but you have cryptography 45.0.6 which is incompatible.\u001b[0m\u001b[31m\n",
            "\u001b[0m"
          ]
        }
      ],
      "source": [
        "! pip install -q 'gwosc' 'gwpy'"
      ]
    },
    {
      "cell_type": "code",
      "source": [
        "# Check the version of the package gwosc you are using\n",
        "import gwosc\n",
        "print(gwosc.__version__)"
      ],
      "metadata": {
        "colab": {
          "base_uri": "https://localhost:8080/"
        },
        "id": "Hz67cGp6laxC",
        "outputId": "be649d09-f06b-476d-bfa0-0267e8768ee2"
      },
      "execution_count": 2,
      "outputs": [
        {
          "output_type": "stream",
          "name": "stdout",
          "text": [
            "0.8.1\n"
          ]
        }
      ]
    },
    {
      "cell_type": "code",
      "source": [
        "from gwosc.datasets import event_gps\n",
        "from gwpy.timeseries import TimeSeries\n",
        "\n",
        "event = 'GW150914'\n",
        "gps = event_gps(event)\n",
        "print(\"GPS:\", gps)\n",
        "\n",
        "segment = (gps - 8, gps + 8)\n",
        "\n",
        "ldata = TimeSeries.fetch_open_data('L1', *segment, cache=True, sample_rate=16384)\n",
        "print(\"L1 data\")\n",
        "print(ldata)\n",
        "\n",
        "hdata = TimeSeries.fetch_open_data('H1', *segment, cache=True, sample_rate=16384)\n",
        "print(\"H1 data\")\n",
        "print(hdata)"
      ],
      "metadata": {
        "colab": {
          "base_uri": "https://localhost:8080/"
        },
        "id": "dPmBNxxnlkCB",
        "outputId": "f5243708-b8c5-44be-ebb6-77f5555553ba"
      },
      "execution_count": 5,
      "outputs": [
        {
          "output_type": "stream",
          "name": "stdout",
          "text": [
            "GPS: 1126259462.4\n",
            "L1 data\n",
            "TimeSeries([-1.04988177e-18, -1.03213623e-18, -1.05331045e-18,\n",
            "            ..., -1.09339536e-18, -1.07342380e-18,\n",
            "            -1.08303029e-18]\n",
            "           unit: dimensionless,\n",
            "           t0: 1126259454.3999634 s,\n",
            "           dt: 6.103515625e-05 s,\n",
            "           name: Strain,\n",
            "           channel: None)\n",
            "H1 data\n",
            "TimeSeries([-2.30941416e-19, -2.45758980e-19, -2.37722078e-19,\n",
            "            ..., -7.48230568e-21, -3.84636665e-20,\n",
            "            -2.90201667e-20]\n",
            "           unit: dimensionless,\n",
            "           t0: 1126259454.3999634 s,\n",
            "           dt: 6.103515625e-05 s,\n",
            "           name: Strain,\n",
            "           channel: None)\n"
          ]
        }
      ]
    },
    {
      "cell_type": "code",
      "source": [
        "ldata.write(\"/content/proving-gr-using-ligo/data/raw/L1_gw150914_analysis.hdf5\", format='hdf5')\n",
        "hdata.write(\"/content/proving-gr-using-ligo/data/raw/H1_gw150914_analysis.hdf5\", format='hdf5')"
      ],
      "metadata": {
        "id": "ylEbFDsM3J4D",
        "colab": {
          "base_uri": "https://localhost:8080/"
        },
        "outputId": "6371248f-97ee-4151-ee48-a1bd15dd6221"
      },
      "execution_count": 7,
      "outputs": [
        {
          "output_type": "execute_result",
          "data": {
            "text/plain": [
              "<Closed HDF5 dataset>"
            ]
          },
          "metadata": {},
          "execution_count": 7
        }
      ]
    },
    {
      "cell_type": "code",
      "source": [
        "import h5py\n",
        "\n",
        "psd_duration = 1024\n",
        "psd_start = gps - 2000\n",
        "psd_end   = psd_start + psd_duration\n",
        "\n",
        "strain_H1 = TimeSeries.fetch_open_data('H1', psd_start, psd_end, cache=True)\n",
        "strain_L1 = TimeSeries.fetch_open_data('L1', psd_start, psd_end, cache=True)\n",
        "\n",
        "with h5py.File(\"/content/proving-gr-using-ligo/data/raw/H1_noise_psd_windows/psd_segment_1024s.hdf5\", \"w\") as f:\n",
        "    f.create_dataset(\"strain\", data=strain_H1.value)\n",
        "    f.attrs[\"detector\"] = \"H1\"\n",
        "    f.attrs[\"gps_start\"] = psd_start\n",
        "    f.attrs[\"gps_end\"] = psd_end\n",
        "    f.attrs[\"duration\"] = psd_duration\n",
        "\n",
        "with h5py.File(\"/content/proving-gr-using-ligo/data/raw/L1_noise_psd_windows/psd_segment_1024s.hdf5\", \"w\") as f:\n",
        "    f.create_dataset(\"strain\", data=strain_L1.value)\n",
        "    f.attrs[\"detector\"] = \"L1\"\n",
        "    f.attrs[\"gps_start\"] = psd_start\n",
        "    f.attrs[\"gps_end\"] = psd_end\n",
        "    f.attrs[\"duration\"] = psd_duration"
      ],
      "metadata": {
        "id": "my2hG_x81rRd"
      },
      "execution_count": 8,
      "outputs": []
    },
    {
      "cell_type": "code",
      "source": [],
      "metadata": {
        "id": "YEoYLUzxVv82"
      },
      "execution_count": null,
      "outputs": []
    }
  ]
}